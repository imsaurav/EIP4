{
  "nbformat": 4,
  "nbformat_minor": 0,
  "metadata": {
    "colab": {
      "name": "1st_DNN_Solution.ipynb",
      "provenance": [],
      "include_colab_link": true
    },
    "kernelspec": {
      "name": "python3",
      "display_name": "Python 3"
    }
  },
  "cells": [
    {
      "cell_type": "markdown",
      "metadata": {
        "id": "view-in-github",
        "colab_type": "text"
      },
      "source": [
        "<a href=\"https://colab.research.google.com/github/imsaurav/EIP4/blob/master/1st_DNN_Solution.ipynb\" target=\"_parent\"><img src=\"https://colab.research.google.com/assets/colab-badge.svg\" alt=\"Open In Colab\"/></a>"
      ]
    },
    {
      "cell_type": "code",
      "metadata": {
        "id": "dMs1K6sE-BeR",
        "colab_type": "code",
        "colab": {
          "base_uri": "https://localhost:8080/",
          "height": 83
        },
        "outputId": "68e90a49-47db-4253-fbb4-ec9dbab73dae"
      },
      "source": [
        "# https://keras.io/\n",
        "!pip install -q keras\n",
        "import keras"
      ],
      "execution_count": 1,
      "outputs": [
        {
          "output_type": "stream",
          "text": [
            "Using TensorFlow backend.\n"
          ],
          "name": "stderr"
        },
        {
          "output_type": "display_data",
          "data": {
            "text/html": [
              "<p style=\"color: red;\">\n",
              "The default version of TensorFlow in Colab will soon switch to TensorFlow 2.x.<br>\n",
              "We recommend you <a href=\"https://www.tensorflow.org/guide/migrate\" target=\"_blank\">upgrade</a> now \n",
              "or ensure your notebook will continue to use TensorFlow 1.x via the <code>%tensorflow_version 1.x</code> magic:\n",
              "<a href=\"https://colab.research.google.com/notebooks/tensorflow_version.ipynb\" target=\"_blank\">more info</a>.</p>\n"
            ],
            "text/plain": [
              "<IPython.core.display.HTML object>"
            ]
          },
          "metadata": {
            "tags": []
          }
        }
      ]
    },
    {
      "cell_type": "code",
      "metadata": {
        "id": "STZ_yipw-Zr_",
        "colab_type": "code",
        "colab": {}
      },
      "source": [
        "import numpy as np\n",
        "\n",
        "from keras.models import Sequential\n",
        "from keras.layers import Dense, Dropout, Activation, Flatten, Add\n",
        "from keras.layers import Convolution2D, MaxPooling2D\n",
        "from keras.utils import np_utils\n",
        "\n",
        "from keras.datasets import mnist"
      ],
      "execution_count": 0,
      "outputs": []
    },
    {
      "cell_type": "code",
      "metadata": {
        "id": "tpCZVrhZ-Zum",
        "colab_type": "code",
        "colab": {}
      },
      "source": [
        ""
      ],
      "execution_count": 0,
      "outputs": []
    },
    {
      "cell_type": "code",
      "metadata": {
        "id": "Ce-vloEX-Zwq",
        "colab_type": "code",
        "colab": {}
      },
      "source": [
        "(X_train, y_train), (X_test, y_test) = mnist.load_data()"
      ],
      "execution_count": 0,
      "outputs": []
    },
    {
      "cell_type": "code",
      "metadata": {
        "id": "Gem1gULC-Zyn",
        "colab_type": "code",
        "colab": {
          "base_uri": "https://localhost:8080/",
          "height": 301
        },
        "outputId": "2912d823-0b26-45cf-e220-701f4d9f0bab"
      },
      "source": [
        "print (X_train.shape)\n",
        "from matplotlib import pyplot as plt\n",
        "%matplotlib inline\n",
        "plt.imshow(X_train[10])"
      ],
      "execution_count": 4,
      "outputs": [
        {
          "output_type": "stream",
          "text": [
            "(60000, 28, 28)\n"
          ],
          "name": "stdout"
        },
        {
          "output_type": "execute_result",
          "data": {
            "text/plain": [
              "<matplotlib.image.AxesImage at 0x7f47d3d630f0>"
            ]
          },
          "metadata": {
            "tags": []
          },
          "execution_count": 4
        },
        {
          "output_type": "display_data",
          "data": {
            "image/png": "[encoded data removed]",
            "text/plain": [
              "<Figure size 432x288 with 1 Axes>"
            ]
          },
          "metadata": {
            "tags": []
          }
        }
      ]
    },
    {
      "cell_type": "code",
      "metadata": {
        "id": "aQMHZ4y9-Z07",
        "colab_type": "code",
        "colab": {}
      },
      "source": [
        "X_train = X_train.reshape(X_train.shape[0], 28, 28,1)\n",
        "X_test = X_test.reshape(X_test.shape[0], 28, 28,1)"
      ],
      "execution_count": 0,
      "outputs": []
    },
    {
      "cell_type": "code",
      "metadata": {
        "id": "i0epTUBJ-Z3S",
        "colab_type": "code",
        "colab": {}
      },
      "source": [
        "X_train = X_train.astype('float32')\n",
        "X_test = X_test.astype('float32')\n",
        "X_train /= 255\n",
        "X_test /= 255"
      ],
      "execution_count": 0,
      "outputs": []
    },
    {
      "cell_type": "code",
      "metadata": {
        "id": "2MVM5fzz-ZrB",
        "colab_type": "code",
        "colab": {
          "base_uri": "https://localhost:8080/",
          "height": 126
        },
        "outputId": "82d90eaf-d605-4bef-c947-8c58e03499e7"
      },
      "source": [
        "y_train[:128]"
      ],
      "execution_count": 7,
      "outputs": [
        {
          "output_type": "execute_result",
          "data": {
            "text/plain": [
              "array([5, 0, 4, 1, 9, 2, 1, 3, 1, 4, 3, 5, 3, 6, 1, 7, 2, 8, 6, 9, 4, 0,\n",
              "       9, 1, 1, 2, 4, 3, 2, 7, 3, 8, 6, 9, 0, 5, 6, 0, 7, 6, 1, 8, 7, 9,\n",
              "       3, 9, 8, 5, 9, 3, 3, 0, 7, 4, 9, 8, 0, 9, 4, 1, 4, 4, 6, 0, 4, 5,\n",
              "       6, 1, 0, 0, 1, 7, 1, 6, 3, 0, 2, 1, 1, 7, 9, 0, 2, 6, 7, 8, 3, 9,\n",
              "       0, 4, 6, 7, 4, 6, 8, 0, 7, 8, 3, 1, 5, 7, 1, 7, 1, 1, 6, 3, 0, 2,\n",
              "       9, 3, 1, 1, 0, 4, 9, 2, 0, 0, 2, 0, 2, 7, 1, 8, 6, 4], dtype=uint8)"
            ]
          },
          "metadata": {
            "tags": []
          },
          "execution_count": 7
        }
      ]
    },
    {
      "cell_type": "code",
      "metadata": {
        "id": "86kCR4b7-Zol",
        "colab_type": "code",
        "colab": {}
      },
      "source": [
        "# Convert 1-dimensional class arrays to 10-dimensional class matrices\n",
        "Y_train = np_utils.to_categorical(y_train)\n",
        "Y_test = np_utils.to_categorical(y_test)"
      ],
      "execution_count": 0,
      "outputs": []
    },
    {
      "cell_type": "code",
      "metadata": {
        "id": "K4mcpqcYLWg-",
        "colab_type": "code",
        "colab": {
          "base_uri": "https://localhost:8080/",
          "height": 145
        },
        "outputId": "62db520f-0a0d-4f35-bbeb-d571fa188896"
      },
      "source": [
        "Y_train[:128]\n"
      ],
      "execution_count": 9,
      "outputs": [
        {
          "output_type": "execute_result",
          "data": {
            "text/plain": [
              "array([[0., 0., 0., ..., 0., 0., 0.],\n",
              "       [1., 0., 0., ..., 0., 0., 0.],\n",
              "       [0., 0., 0., ..., 0., 0., 0.],\n",
              "       ...,\n",
              "       [0., 0., 0., ..., 0., 1., 0.],\n",
              "       [0., 0., 0., ..., 0., 0., 0.],\n",
              "       [0., 0., 0., ..., 0., 0., 0.]], dtype=float32)"
            ]
          },
          "metadata": {
            "tags": []
          },
          "execution_count": 9
        }
      ]
    },
    {
      "cell_type": "code",
      "metadata": {
        "id": "6ghkWtx6LWjJ",
        "colab_type": "code",
        "colab": {
          "base_uri": "https://localhost:8080/",
          "height": 146
        },
        "outputId": "9b9bbbf6-5773-4dd7-effc-84c100f7ce4c"
      },
      "source": [
        "from keras.layers import Activation\n",
        "model = Sequential()\n",
        "\n",
        " \n",
        "model.add(Convolution2D(32, 3, 3, activation='relu', input_shape=(28,28,1))) \n",
        "model.add(Convolution2D(64, 3, 3, activation='relu'))\n",
        "model.add(MaxPooling2D(pool_size=(2, 2), strides=None, padding='valid', data_format=None))\n",
        "\n",
        "# model.add(Convolution2D(256, 3, 3, activation='relu'))\n",
        "\n",
        "# \n",
        "# model.add(MaxPooling2D(pool_size=(2, 2), strides=None, padding='valid', data_format=None))\n",
        "\n",
        "# model.add(MaxPooling2D(pool_size=(2, 2), strides=None, padding='valid', data_format=None))\n",
        "\n",
        "model.add(Convolution2D(10, 3,3, activation='relu'))\n",
        "\n",
        "# model.add(Convolution2D(10, 1, activation='relu'))\n",
        "\n",
        "model.add(Convolution2D(10, 10))\n",
        "model.add(Flatten())\n",
        "model.add(Activation('softmax'))"
      ],
      "execution_count": 20,
      "outputs": [
        {
          "output_type": "stream",
          "text": [
            "/usr/local/lib/python3.6/dist-packages/ipykernel_launcher.py:5: UserWarning: Update your `Conv2D` call to the Keras 2 API: `Conv2D(32, (3, 3), activation=\"relu\", input_shape=(28, 28, 1...)`\n",
            "  \"\"\"\n",
            "/usr/local/lib/python3.6/dist-packages/ipykernel_launcher.py:6: UserWarning: Update your `Conv2D` call to the Keras 2 API: `Conv2D(64, (3, 3), activation=\"relu\")`\n",
            "  \n",
            "/usr/local/lib/python3.6/dist-packages/ipykernel_launcher.py:16: UserWarning: Update your `Conv2D` call to the Keras 2 API: `Conv2D(10, (3, 3), activation=\"relu\")`\n",
            "  app.launch_new_instance()\n"
          ],
          "name": "stderr"
        }
      ]
    },
    {
      "cell_type": "code",
      "metadata": {
        "id": "8IPDf9UcLWl-",
        "colab_type": "code",
        "colab": {
          "base_uri": "https://localhost:8080/",
          "height": 417
        },
        "outputId": "65fbe0df-e10f-470f-cba8-bf1e3c7a826e"
      },
      "source": [
        "model.summary()"
      ],
      "execution_count": 21,
      "outputs": [
        {
          "output_type": "stream",
          "text": [
            "Model: \"sequential_3\"\n",
            "_________________________________________________________________\n",
            "Layer (type)                 Output Shape              Param #   \n",
            "=================================================================\n",
            "conv2d_8 (Conv2D)            (None, 26, 26, 32)        320       \n",
            "_________________________________________________________________\n",
            "conv2d_9 (Conv2D)            (None, 24, 24, 64)        18496     \n",
            "_________________________________________________________________\n",
            "max_pooling2d_5 (MaxPooling2 (None, 12, 12, 64)        0         \n",
            "_________________________________________________________________\n",
            "conv2d_10 (Conv2D)           (None, 10, 10, 10)        5770      \n",
            "_________________________________________________________________\n",
            "conv2d_11 (Conv2D)           (None, 1, 1, 10)          10010     \n",
            "_________________________________________________________________\n",
            "flatten_3 (Flatten)          (None, 10)                0         \n",
            "_________________________________________________________________\n",
            "activation_3 (Activation)    (None, 10)                0         \n",
            "=================================================================\n",
            "Total params: 34,596\n",
            "Trainable params: 34,596\n",
            "Non-trainable params: 0\n",
            "_________________________________________________________________\n"
          ],
          "name": "stdout"
        }
      ]
    },
    {
      "cell_type": "code",
      "metadata": {
        "id": "SIofxybiLWoW",
        "colab_type": "code",
        "colab": {}
      },
      "source": [
        "model.compile(loss='categorical_crossentropy',\n",
        "             optimizer='adam',\n",
        "             metrics=['accuracy'])"
      ],
      "execution_count": 0,
      "outputs": []
    },
    {
      "cell_type": "code",
      "metadata": {
        "id": "__FVTFKdLWew",
        "colab_type": "code",
        "colab": {
          "base_uri": "https://localhost:8080/",
          "height": 1000
        },
        "outputId": "4669e6a4-676f-496d-80b5-30085658c125"
      },
      "source": [
        "model.fit(X_train, Y_train, batch_size=32, nb_epoch=25, verbose=1)"
      ],
      "execution_count": 32,
      "outputs": [
        {
          "output_type": "stream",
          "text": [
            "Epoch 1/25\n",
            "   64/60000 [..............................] - ETA: 2:35 - loss: 0.0053 - acc: 1.0000"
          ],
          "name": "stdout"
        },
        {
          "output_type": "stream",
          "text": [
            "/usr/local/lib/python3.6/dist-packages/ipykernel_launcher.py:1: UserWarning: The `nb_epoch` argument in `fit` has been renamed `epochs`.\n",
            "  \"\"\"Entry point for launching an IPython kernel.\n"
          ],
          "name": "stderr"
        },
        {
          "output_type": "stream",
          "text": [
            "60000/60000 [==============================] - 153s 3ms/step - loss: 0.0085 - acc: 0.9976\n",
            "Epoch 2/25\n",
            "60000/60000 [==============================] - 153s 3ms/step - loss: 0.0075 - acc: 0.9978\n",
            "Epoch 3/25\n",
            "60000/60000 [==============================] - 153s 3ms/step - loss: 0.0061 - acc: 0.9984\n",
            "Epoch 4/25\n",
            "60000/60000 [==============================] - 153s 3ms/step - loss: 0.0053 - acc: 0.9983\n",
            "Epoch 5/25\n",
            "60000/60000 [==============================] - 153s 3ms/step - loss: 0.0060 - acc: 0.9984\n",
            "Epoch 6/25\n",
            "60000/60000 [==============================] - 153s 3ms/step - loss: 0.0057 - acc: 0.9984\n",
            "Epoch 7/25\n",
            "60000/60000 [==============================] - 153s 3ms/step - loss: 0.0056 - acc: 0.9983\n",
            "Epoch 8/25\n",
            "60000/60000 [==============================] - 153s 3ms/step - loss: 0.0064 - acc: 0.9981\n",
            "Epoch 9/25\n",
            "60000/60000 [==============================] - 153s 3ms/step - loss: 0.0037 - acc: 0.9990\n",
            "Epoch 10/25\n",
            "60000/60000 [==============================] - 153s 3ms/step - loss: 0.0070 - acc: 0.9982\n",
            "Epoch 11/25\n",
            "60000/60000 [==============================] - 153s 3ms/step - loss: 0.0051 - acc: 0.9985\n",
            "Epoch 12/25\n",
            "60000/60000 [==============================] - 153s 3ms/step - loss: 0.0067 - acc: 0.9985\n",
            "Epoch 13/25\n",
            "60000/60000 [==============================] - 153s 3ms/step - loss: 0.0063 - acc: 0.9984\n",
            "Epoch 14/25\n",
            "60000/60000 [==============================] - 154s 3ms/step - loss: 0.0054 - acc: 0.9985\n",
            "Epoch 15/25\n",
            "60000/60000 [==============================] - 155s 3ms/step - loss: 0.0039 - acc: 0.9989\n",
            "Epoch 16/25\n",
            "60000/60000 [==============================] - 162s 3ms/step - loss: 0.0060 - acc: 0.9986\n",
            "Epoch 17/25\n",
            "60000/60000 [==============================] - 156s 3ms/step - loss: 0.0051 - acc: 0.9989\n",
            "Epoch 18/25\n",
            "60000/60000 [==============================] - 158s 3ms/step - loss: 0.0071 - acc: 0.9983\n",
            "Epoch 19/25\n",
            "60000/60000 [==============================] - 158s 3ms/step - loss: 0.0043 - acc: 0.9990\n",
            "Epoch 20/25\n",
            "60000/60000 [==============================] - 157s 3ms/step - loss: 0.0078 - acc: 0.9987\n",
            "Epoch 21/25\n",
            "60000/60000 [==============================] - 158s 3ms/step - loss: 0.0073 - acc: 0.9984\n",
            "Epoch 22/25\n",
            "60000/60000 [==============================] - 156s 3ms/step - loss: 0.0044 - acc: 0.9990\n",
            "Epoch 23/25\n",
            "60000/60000 [==============================] - 153s 3ms/step - loss: 0.0071 - acc: 0.9985\n",
            "Epoch 24/25\n",
            "60000/60000 [==============================] - 157s 3ms/step - loss: 0.0037 - acc: 0.9991\n",
            "Epoch 25/25\n",
            "60000/60000 [==============================] - 157s 3ms/step - loss: 0.0046 - acc: 0.9989\n"
          ],
          "name": "stdout"
        },
        {
          "output_type": "execute_result",
          "data": {
            "text/plain": [
              "<keras.callbacks.History at 0x7f47c15caf98>"
            ]
          },
          "metadata": {
            "tags": []
          },
          "execution_count": 32
        }
      ]
    },
    {
      "cell_type": "code",
      "metadata": {
        "id": "ITZpjueILWbz",
        "colab_type": "code",
        "colab": {
          "base_uri": "https://localhost:8080/",
          "height": 35
        },
        "outputId": "00619b31-f67e-46ac-bce5-b9e8663d7111"
      },
      "source": [
        "score = model.evaluate(X_test, Y_test, verbose=1)"
      ],
      "execution_count": 35,
      "outputs": [
        {
          "output_type": "stream",
          "text": [
            "10000/10000 [==============================] - 7s 720us/step\n"
          ],
          "name": "stdout"
        }
      ]
    },
    {
      "cell_type": "code",
      "metadata": {
        "id": "kPsdEWRWLtAf",
        "colab_type": "code",
        "colab": {
          "base_uri": "https://localhost:8080/",
          "height": 35
        },
        "outputId": "e2cfd82b-97bc-45ee-ec2b-c325d78c1012"
      },
      "source": [
        "print(score)"
      ],
      "execution_count": 36,
      "outputs": [
        {
          "output_type": "stream",
          "text": [
            "[0.08940376769428127, 0.991]\n"
          ],
          "name": "stdout"
        }
      ]
    },
    {
      "cell_type": "code",
      "metadata": {
        "id": "cQKmhpC5LtDO",
        "colab_type": "code",
        "colab": {}
      },
      "source": [
        ""
      ],
      "execution_count": 0,
      "outputs": []
    },
    {
      "cell_type": "code",
      "metadata": {
        "id": "y2ZXoI2hLs-k",
        "colab_type": "code",
        "colab": {}
      },
      "source": [
        "y_pred = model.predict(X_test)"
      ],
      "execution_count": 0,
      "outputs": []
    },
    {
      "cell_type": "code",
      "metadata": {
        "id": "h4is39F-Ls8g",
        "colab_type": "code",
        "colab": {
          "base_uri": "https://localhost:8080/",
          "height": 363
        },
        "outputId": "22a47185-8ece-42d9-e21e-cd2979e75bcc"
      },
      "source": [
        "print(y_pred[:9])\n",
        "print(y_test[:9])"
      ],
      "execution_count": 38,
      "outputs": [
        {
          "output_type": "stream",
          "text": [
            "[[0.0000000e+00 0.0000000e+00 0.0000000e+00 0.0000000e+00 0.0000000e+00\n",
            "  0.0000000e+00 0.0000000e+00 1.0000000e+00 0.0000000e+00 0.0000000e+00]\n",
            " [0.0000000e+00 3.2076260e-38 1.0000000e+00 0.0000000e+00 0.0000000e+00\n",
            "  0.0000000e+00 0.0000000e+00 0.0000000e+00 0.0000000e+00 0.0000000e+00]\n",
            " [4.6469525e-33 1.0000000e+00 2.3947364e-28 0.0000000e+00 3.4350817e-20\n",
            "  8.2453888e-29 9.1016718e-30 2.5076544e-19 1.5126649e-28 7.1543642e-33]\n",
            " [1.0000000e+00 0.0000000e+00 2.4661553e-38 0.0000000e+00 0.0000000e+00\n",
            "  0.0000000e+00 1.5442996e-30 0.0000000e+00 0.0000000e+00 2.7908552e-38]\n",
            " [0.0000000e+00 0.0000000e+00 0.0000000e+00 0.0000000e+00 1.0000000e+00\n",
            "  0.0000000e+00 0.0000000e+00 0.0000000e+00 0.0000000e+00 3.8599697e-21]\n",
            " [1.9772404e-37 1.0000000e+00 1.8319792e-29 0.0000000e+00 3.9206955e-21\n",
            "  2.2882906e-37 6.3705724e-36 9.2002813e-16 1.4940370e-30 2.0394513e-38]\n",
            " [0.0000000e+00 1.9801475e-36 3.0327116e-34 0.0000000e+00 1.0000000e+00\n",
            "  2.1967735e-18 0.0000000e+00 2.2138651e-28 9.5195052e-09 8.7685740e-13]\n",
            " [0.0000000e+00 0.0000000e+00 0.0000000e+00 0.0000000e+00 1.7882840e-31\n",
            "  0.0000000e+00 0.0000000e+00 0.0000000e+00 0.0000000e+00 1.0000000e+00]\n",
            " [2.2618803e-38 0.0000000e+00 0.0000000e+00 0.0000000e+00 0.0000000e+00\n",
            "  1.0000000e+00 8.8840325e-19 0.0000000e+00 1.4007119e-27 1.2361402e-31]]\n",
            "[7 2 1 0 4 1 4 9 5]\n"
          ],
          "name": "stdout"
        }
      ]
    },
    {
      "cell_type": "code",
      "metadata": {
        "id": "24DEkHShLs6x",
        "colab_type": "code",
        "colab": {}
      },
      "source": [
        "layer_dict = dict([(layer.name, layer) for layer in model.layers])"
      ],
      "execution_count": 0,
      "outputs": []
    },
    {
      "cell_type": "code",
      "metadata": {
        "id": "FeMjLc1Qunw7",
        "colab_type": "code",
        "colab": {}
      },
      "source": [
        "# import numpy as np\n",
        "# from matplotlib import pyplot as plt\n",
        "# from keras import backend as K\n",
        "# %matplotlib inline\n",
        "# # util function to convert a tensor into a valid image\n",
        "# def deprocess_image(x):\n",
        "#     # normalize tensor: center on 0., ensure std is 0.1\n",
        "#     x -= x.mean()\n",
        "#     x /= (x.std() + 1e-5)\n",
        "#     x *= 0.1\n",
        "\n",
        "#     # clip to [0, 1]\n",
        "#     x += 0.5\n",
        "#     x = np.clip(x, 0, 1)\n",
        "\n",
        "#     # convert to RGB array\n",
        "#     x *= 255\n",
        "#     #x = x.transpose((1, 2, 0))\n",
        "#     x = np.clip(x, 0, 255).astype('uint8')\n",
        "#     return x\n",
        "\n",
        "# def vis_img_in_filter(img = np.array(X_train[2]).reshape((1, 28, 28, 1)).astype(np.float64), \n",
        "#                       layer_name = 'conv2d_14'):\n",
        "#     layer_output = layer_dict[layer_name].output\n",
        "#     img_ascs = list()\n",
        "#     for filter_index in range(layer_output.shape[3]):\n",
        "#         # build a loss function that maximizes the activation\n",
        "#         # of the nth filter of the layer considered\n",
        "#         loss = K.mean(layer_output[:, :, :, filter_index])\n",
        "\n",
        "#         # compute the gradient of the input picture wrt this loss\n",
        "#         grads = K.gradients(loss, model.input)[0]\n",
        "\n",
        "#         # normalization trick: we normalize the gradient\n",
        "#         grads /= (K.sqrt(K.mean(K.square(grads))) + 1e-5)\n",
        "\n",
        "#         # this function returns the loss and grads given the input picture\n",
        "#         iterate = K.function([model.input], [loss, grads])\n",
        "\n",
        "#         # step size for gradient ascent\n",
        "#         step = 5.\n",
        "\n",
        "#         img_asc = np.array(img)\n",
        "#         # run gradient ascent for 20 steps\n",
        "#         for i in range(20):\n",
        "#             loss_value, grads_value = iterate([img_asc])\n",
        "#             img_asc += grads_value * step\n",
        "\n",
        "#         img_asc = img_asc[0]\n",
        "#         img_ascs.append(deprocess_image(img_asc).reshape((28, 28)))\n",
        "        \n",
        "#     if layer_output.shape[3] >= 35:\n",
        "#         plot_x, plot_y = 6, 6\n",
        "#     elif layer_output.shape[3] >= 23:\n",
        "#         plot_x, plot_y = 4, 6\n",
        "#     elif layer_output.shape[3] >= 11:\n",
        "#         plot_x, plot_y = 2, 6\n",
        "#     else:\n",
        "#         plot_x, plot_y = 1, 2\n",
        "#     fig, ax = plt.subplots(plot_x, plot_y, figsize = (12, 12))\n",
        "#     ax[0, 0].imshow(img.reshape((28, 28)), cmap = 'gray')\n",
        "#     ax[0, 0].set_title('Input image')\n",
        "#     fig.suptitle('Input image and %s filters' % (layer_name,))\n",
        "#     fig.tight_layout(pad = 0.3, rect = [0, 0, 0.9, 0.9])\n",
        "#     for (x, y) in [(i, j) for i in range(plot_x) for j in range(plot_y)]:\n",
        "#         if x == 0 and y == 0:\n",
        "#             continue\n",
        "#         ax[x, y].imshow(img_ascs[x * plot_y + y - 1], cmap = 'gray')\n",
        "#         ax[x, y].set_title('filter %d' % (x * plot_y + y - 1))\n",
        "\n",
        "# vis_img_in_filter()"
      ],
      "execution_count": 0,
      "outputs": []
    },
    {
      "cell_type": "code",
      "metadata": {
        "id": "6jMa7Urlunv5",
        "colab_type": "code",
        "colab": {}
      },
      "source": [
        ""
      ],
      "execution_count": 0,
      "outputs": []
    },
    {
      "cell_type": "code",
      "metadata": {
        "id": "ETL0PwHYunum",
        "colab_type": "code",
        "colab": {}
      },
      "source": [
        ""
      ],
      "execution_count": 0,
      "outputs": []
    },
    {
      "cell_type": "code",
      "metadata": {
        "id": "FkknHi1Wuns0",
        "colab_type": "code",
        "colab": {}
      },
      "source": [
        ""
      ],
      "execution_count": 0,
      "outputs": []
    },
    {
      "cell_type": "code",
      "metadata": {
        "id": "4aqXhYqmunq2",
        "colab_type": "code",
        "colab": {}
      },
      "source": [
        ""
      ],
      "execution_count": 0,
      "outputs": []
    },
    {
      "cell_type": "code",
      "metadata": {
        "id": "c2w7lMwcunlL",
        "colab_type": "code",
        "colab": {}
      },
      "source": [
        ""
      ],
      "execution_count": 0,
      "outputs": []
    },
    {
      "cell_type": "code",
      "metadata": {
        "id": "4cTLjmKbLs4x",
        "colab_type": "code",
        "colab": {}
      },
      "source": [
        ""
      ],
      "execution_count": 0,
      "outputs": []
    }
  ]
}